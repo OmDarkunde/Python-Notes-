{
 "cells": [
  {
   "cell_type": "markdown",
   "metadata": {},
   "source": [
    "> # oop \n",
    " + object oriented programing \n",
    " "
   ]
  },
  {
   "cell_type": "markdown",
   "metadata": {},
   "source": [
    "> ## class --  class is a real world entity(obj).classification` of real world object "
   ]
  },
  {
   "cell_type": "markdown",
   "metadata": {},
   "source": [
    "class : : create class \n",
    "\n",
    "> class < class name >( ) :  \n",
    "        statement\n",
    "        "
   ]
  },
  {
   "cell_type": "markdown",
   "metadata": {},
   "source": [
    "> ###  empty class"
   ]
  },
  {
   "cell_type": "code",
   "execution_count": 1,
   "metadata": {},
   "outputs": [],
   "source": [
    "class car() : \n",
    "    pass"
   ]
  },
  {
   "cell_type": "markdown",
   "metadata": {},
   "source": [
    "# every data type is a class in python  \n",
    "# evrything writen in python is in the format of class object "
   ]
  },
  {
   "cell_type": "markdown",
   "metadata": {},
   "source": [
    "> # Q what is object \n",
    "    + variable/(instence) of a class is a object  "
   ]
  },
  {
   "cell_type": "code",
   "execution_count": null,
   "metadata": {},
   "outputs": [],
   "source": [
    "a = 10\n",
    "b = 5\n",
    "c = 5\n",
    "\n"
   ]
  },
  {
   "cell_type": "markdown",
   "metadata": {},
   "source": [
    "# int variable \n",
    "# a,b,c are variable of int class (object  of the int class )"
   ]
  },
  {
   "cell_type": "code",
   "execution_count": 2,
   "metadata": {},
   "outputs": [],
   "source": [
    "d = 12.63\n",
    "e = 56.36"
   ]
  },
  {
   "cell_type": "markdown",
   "metadata": {},
   "source": [
    "# d,e are object of float class "
   ]
  },
  {
   "cell_type": "code",
   "execution_count": 3,
   "metadata": {},
   "outputs": [],
   "source": [
    "class pen() :\n",
    "    pass "
   ]
  },
  {
   "cell_type": "code",
   "execution_count": 4,
   "metadata": {},
   "outputs": [],
   "source": [
    "class car () :\n",
    "    pass "
   ]
  },
  {
   "cell_type": "code",
   "execution_count": 6,
   "metadata": {},
   "outputs": [],
   "source": [
    "car_1 = car()"
   ]
  },
  {
   "cell_type": "code",
   "execution_count": 8,
   "metadata": {},
   "outputs": [
    {
     "name": "stdout",
     "output_type": "stream",
     "text": [
      "<__main__.car object at 0x00000200AA02A860>\n"
     ]
    }
   ],
   "source": [
    "print(car_1) # location of the object "
   ]
  },
  {
   "cell_type": "code",
   "execution_count": 9,
   "metadata": {},
   "outputs": [],
   "source": [
    "car_2 = car()"
   ]
  },
  {
   "cell_type": "markdown",
   "metadata": {},
   "source": [
    "+ we car crate as many as object we want  \n",
    "+ while create function inside the class we have to pass first parameter as self \n",
    "+ if we dont pass self as first parameter then it will gives error\n",
    "+ self is not reserved keyword \n",
    "+ we can write any thing on the position of self \n",
    "+ self is teh first parameter of the function \n"
   ]
  },
  {
   "cell_type": "markdown",
   "metadata": {},
   "source": [
    "\n",
    "+ self is not reserverd key word \n",
    "+ self as first para meter always in the class while crete the function \n"
   ]
  },
  {
   "cell_type": "code",
   "execution_count": 17,
   "metadata": {},
   "outputs": [],
   "source": [
    "class skills() : \n",
    "    def welcome(self ) :\n",
    "        print(\"hello to the skils\")"
   ]
  },
  {
   "cell_type": "code",
   "execution_count": 18,
   "metadata": {},
   "outputs": [],
   "source": [
    "b = skills()"
   ]
  },
  {
   "cell_type": "markdown",
   "metadata": {},
   "source": [
    "# location from what.welcome"
   ]
  },
  {
   "cell_type": "code",
   "execution_count": 19,
   "metadata": {},
   "outputs": [
    {
     "name": "stdout",
     "output_type": "stream",
     "text": [
      "hello to the skils\n"
     ]
    }
   ],
   "source": [
    "b.welcome() # lication.welcome"
   ]
  },
  {
   "cell_type": "markdown",
   "metadata": {},
   "source": [
    "# class is the blueprint of the code "
   ]
  },
  {
   "cell_type": "markdown",
   "metadata": {},
   "source": [
    "## any number of attribute can be add to the class "
   ]
  },
  {
   "cell_type": "code",
   "execution_count": 23,
   "metadata": {},
   "outputs": [],
   "source": [
    "car_1.window = 3   # window is the propert of that object "
   ]
  },
  {
   "cell_type": "code",
   "execution_count": 24,
   "metadata": {},
   "outputs": [
    {
     "name": "stdout",
     "output_type": "stream",
     "text": [
      "3\n"
     ]
    }
   ],
   "source": [
    "print(car_1.window)"
   ]
  },
  {
   "cell_type": "code",
   "execution_count": 25,
   "metadata": {},
   "outputs": [],
   "source": [
    "car_1.enginer= \"diesel\""
   ]
  },
  {
   "cell_type": "code",
   "execution_count": 26,
   "metadata": {},
   "outputs": [
    {
     "name": "stdout",
     "output_type": "stream",
     "text": [
      "diesel\n"
     ]
    }
   ],
   "source": [
    "print(car_1.enginer)"
   ]
  },
  {
   "cell_type": "code",
   "execution_count": 28,
   "metadata": {},
   "outputs": [
    {
     "data": {
      "text/plain": [
       "['__class__',\n",
       " '__delattr__',\n",
       " '__dict__',\n",
       " '__dir__',\n",
       " '__doc__',\n",
       " '__eq__',\n",
       " '__format__',\n",
       " '__ge__',\n",
       " '__getattribute__',\n",
       " '__gt__',\n",
       " '__hash__',\n",
       " '__init__',\n",
       " '__init_subclass__',\n",
       " '__le__',\n",
       " '__lt__',\n",
       " '__module__',\n",
       " '__ne__',\n",
       " '__new__',\n",
       " '__reduce__',\n",
       " '__reduce_ex__',\n",
       " '__repr__',\n",
       " '__setattr__',\n",
       " '__sizeof__',\n",
       " '__str__',\n",
       " '__subclasshook__',\n",
       " '__weakref__',\n",
       " 'enginer',\n",
       " 'window']"
      ]
     },
     "execution_count": 28,
     "metadata": {},
     "output_type": "execute_result"
    }
   ],
   "source": [
    "dir(car_1)  # inbuild function present in the car class object "
   ]
  },
  {
   "cell_type": "markdown",
   "metadata": {},
   "source": [
    "> ## to fix number of parameter / attributes ( __ init__)"
   ]
  },
  {
   "cell_type": "code",
   "execution_count": 1,
   "metadata": {},
   "outputs": [],
   "source": [
    "l = [\"python \" , \"om\"]"
   ]
  },
  {
   "cell_type": "code",
   "execution_count": 2,
   "metadata": {},
   "outputs": [
    {
     "data": {
      "text/plain": [
       "'python  om'"
      ]
     },
     "execution_count": 2,
     "metadata": {},
     "output_type": "execute_result"
    }
   ],
   "source": [
    "\" \".join(l)"
   ]
  },
  {
   "cell_type": "markdown",
   "metadata": {},
   "source": [
    "> ##  __ init __  it act as acontructor \n",
    "    constructor is basically used in ordered to initilized how many number of property getting used inside a particular part \n",
    "    + provied data to the function "
   ]
  },
  {
   "cell_type": "markdown",
   "metadata": {},
   "source": [
    "__ init __ -- > it is the constructor used to provide data to class"
   ]
  },
  {
   "cell_type": "markdown",
   "metadata": {},
   "source": [
    "### class only understand seld associated \n",
    "+ it only understand seld associated words  "
   ]
  },
  {
   "cell_type": "code",
   "execution_count": 38,
   "metadata": {},
   "outputs": [],
   "source": [
    "class car() :\n",
    "    def __init__(self,name,window,door) :\n",
    "        self.name = name\n",
    "        self.window = window\n",
    "        self.door =door\n",
    "    def display(self) :\n",
    "        print(f\"name of th car is {self.name}\")\n",
    "        print(f\"number of  door is {self.door}\")\n",
    "        print(f\"number of  window is {self.window}\")\n",
    "\n",
    "        \n",
    "\n"
   ]
  },
  {
   "cell_type": "code",
   "execution_count": 39,
   "metadata": {},
   "outputs": [],
   "source": [
    "b = car(name = \"volkswagan\", window=4 ,door=4)"
   ]
  },
  {
   "cell_type": "markdown",
   "metadata": {},
   "source": [
    "## for thr function only () is required for other parameter it is not required "
   ]
  },
  {
   "cell_type": "code",
   "execution_count": 41,
   "metadata": {},
   "outputs": [
    {
     "name": "stdout",
     "output_type": "stream",
     "text": [
      "name of th car is volkswagan\n",
      "number of  door is 4\n",
      "number of  window is 4\n"
     ]
    }
   ],
   "source": [
    "b.display() # function"
   ]
  },
  {
   "cell_type": "code",
   "execution_count": 43,
   "metadata": {},
   "outputs": [
    {
     "data": {
      "text/plain": [
       "'volkswagan'"
      ]
     },
     "execution_count": 43,
     "metadata": {},
     "output_type": "execute_result"
    }
   ],
   "source": [
    "b.name # parameter "
   ]
  },
  {
   "cell_type": "markdown",
   "metadata": {},
   "source": [
    "create a class soft skills with parameter --> course duration mentor and add two method  to initilize the parameter   init method to provide data to the class  and show_mentor to diplay the mentor name "
   ]
  },
  {
   "cell_type": "code",
   "execution_count": 49,
   "metadata": {},
   "outputs": [],
   "source": [
    "class skills () : \n",
    "    def __init__(self,course , duration , mentor) :\n",
    "        self.course = course\n",
    "        self.duration = duration\n",
    "        self.mentor = mentor\n",
    "    def show_mentor(self) : \n",
    "        print(f\"name of your mentor is {self.mentor}\") \n",
    "       "
   ]
  },
  {
   "cell_type": "code",
   "execution_count": 50,
   "metadata": {},
   "outputs": [],
   "source": [
    "student1 = skills(\"data science with ai\" , \"6 month\" , \"teacher\")"
   ]
  },
  {
   "cell_type": "code",
   "execution_count": 56,
   "metadata": {},
   "outputs": [
    {
     "data": {
      "text/plain": [
       "'teacher'"
      ]
     },
     "execution_count": 56,
     "metadata": {},
     "output_type": "execute_result"
    }
   ],
   "source": [
    "student1.mentor"
   ]
  },
  {
   "cell_type": "code",
   "execution_count": 51,
   "metadata": {},
   "outputs": [
    {
     "name": "stdout",
     "output_type": "stream",
     "text": [
      "name of your mentor is teacher\n"
     ]
    }
   ],
   "source": [
    "student1.show_mentor()"
   ]
  },
  {
   "cell_type": "code",
   "execution_count": 48,
   "metadata": {},
   "outputs": [
    {
     "data": {
      "text/plain": [
       "'6month'"
      ]
     },
     "execution_count": 48,
     "metadata": {},
     "output_type": "execute_result"
    }
   ],
   "source": [
    "student1.duration"
   ]
  },
  {
   "cell_type": "markdown",
   "metadata": {},
   "source": [
    "create class pen -- > colour , quentity , comp"
   ]
  },
  {
   "cell_type": "code",
   "execution_count": 53,
   "metadata": {},
   "outputs": [],
   "source": [
    "class pen () : \n",
    "    def  __init__(self, colour ,quentity ,comp) :\n",
    "        self.colour = colour\n",
    "        self.quentity =quentity\n",
    "        self.comp = comp \n",
    "    def quentity_of (self) :\n",
    "        print(f\"quentity of the pen is {self.quentity}\")"
   ]
  },
  {
   "cell_type": "code",
   "execution_count": 54,
   "metadata": {},
   "outputs": [],
   "source": [
    "a = pen(\"red\" , 10 , \"renolds\")"
   ]
  },
  {
   "cell_type": "code",
   "execution_count": 55,
   "metadata": {},
   "outputs": [
    {
     "name": "stdout",
     "output_type": "stream",
     "text": [
      "quentity of the pen is 10\n"
     ]
    }
   ],
   "source": [
    "a.quentity_of()"
   ]
  },
  {
   "cell_type": "markdown",
   "metadata": {},
   "source": [
    "+ class = animal  (name breed voice)\n",
    " + parameter / methods ==  init , display "
   ]
  },
  {
   "cell_type": "markdown",
   "metadata": {},
   "source": [
    "how many parameter ypu can give to the class is done by the constructor "
   ]
  },
  {
   "cell_type": "code",
   "execution_count": 57,
   "metadata": {},
   "outputs": [],
   "source": [
    "class animal () : \n",
    "    def  __init__(self, name ,breed ,voice) :\n",
    "        self.name = name\n",
    "        self.breed =breed\n",
    "        self.voice = voice \n",
    "    def quentity_of (self) :\n",
    "        print(f\"voice of  {self.name} is  {self.voice}\")\n",
    "        print(f\"breed of  {self.name} is  {self.breed}\")\n",
    "        \n"
   ]
  },
  {
   "cell_type": "code",
   "execution_count": 58,
   "metadata": {},
   "outputs": [],
   "source": [
    "d = animal(\"dog\" , \"pitbul\" , voice = \"bark\")"
   ]
  },
  {
   "cell_type": "code",
   "execution_count": 59,
   "metadata": {},
   "outputs": [
    {
     "name": "stdout",
     "output_type": "stream",
     "text": [
      "voice of  dog is  bark\n",
      "breed of  dog is  pitbul\n"
     ]
    }
   ],
   "source": [
    "d.quentity_of()"
   ]
  },
  {
   "cell_type": "markdown",
   "metadata": {},
   "source": [
    "# itit function is construcor "
   ]
  },
  {
   "cell_type": "code",
   "execution_count": null,
   "metadata": {},
   "outputs": [],
   "source": []
  }
 ],
 "metadata": {
  "kernelspec": {
   "display_name": "Python 3",
   "language": "python",
   "name": "python3"
  },
  "language_info": {
   "codemirror_mode": {
    "name": "ipython",
    "version": 3
   },
   "file_extension": ".py",
   "mimetype": "text/x-python",
   "name": "python",
   "nbconvert_exporter": "python",
   "pygments_lexer": "ipython3",
   "version": "3.10.8"
  }
 },
 "nbformat": 4,
 "nbformat_minor": 2
}
