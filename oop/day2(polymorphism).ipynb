{
 "cells": [
  {
   "cell_type": "markdown",
   "metadata": {},
   "source": [
    "> #   1) polymorphism "
   ]
  },
  {
   "cell_type": "code",
   "execution_count": 1,
   "metadata": {},
   "outputs": [],
   "source": [
    "class polygon () :\n",
    "    def __init__(self, side) -> None:\n",
    "        self.side = side \n",
    "    def sid_display (self) :\n",
    "        print(f\"the side for the polygon is {self.side}\")\n",
    "    "
   ]
  },
  {
   "cell_type": "code",
   "execution_count": 2,
   "metadata": {},
   "outputs": [],
   "source": [
    "class triangle () :\n",
    "    def __init__(self, side) -> None:\n",
    "        self.side = side \n",
    "    def sid_display (self) :\n",
    "        print(f\"the side for the polygon is {self.side}\")\n",
    "    "
   ]
  },
  {
   "cell_type": "code",
   "execution_count": 3,
   "metadata": {},
   "outputs": [],
   "source": [
    "class rectangle() :\n",
    "    def __init__(self, side) -> None:\n",
    "        self.side = side \n",
    "    def sid_display (self) :\n",
    "        print(f\"the side for the polygon is {self.side}\")\n",
    "    "
   ]
  },
  {
   "cell_type": "code",
   "execution_count": 4,
   "metadata": {},
   "outputs": [],
   "source": [
    "class square () :\n",
    "    def __init__(self, side) -> None:\n",
    "        self.side = side \n",
    "    def sid_display (self) :\n",
    "        print(f\"the side for the polygon is {self.side}\")\n",
    "    "
   ]
  },
  {
   "cell_type": "code",
   "execution_count": 17,
   "metadata": {},
   "outputs": [],
   "source": [
    "class Animal () : \n",
    "    def sound (self) :\n",
    "        pass\n",
    "class dog(Animal) : \n",
    "    def sound (self) :\n",
    "        return \"dog sound is --> bark\"\n",
    "class cat (Animal) : \n",
    "    def sound (self) :\n",
    "        return \"meow\"\n",
    "class duck (Animal) : \n",
    "    def sound (self) :\n",
    "        return \"quack\"\n",
    "    \n",
    "\n",
    "def animal_sound (animal_name) :\n",
    "    return animal_name.sound()\n",
    "     "
   ]
  },
  {
   "cell_type": "code",
   "execution_count": 18,
   "metadata": {},
   "outputs": [],
   "source": [
    "dog = dog()\n",
    "cat = cat() \n",
    "duck = duck()"
   ]
  },
  {
   "cell_type": "code",
   "execution_count": 19,
   "metadata": {},
   "outputs": [
    {
     "data": {
      "text/plain": [
       "'dog sound is --> bark'"
      ]
     },
     "execution_count": 19,
     "metadata": {},
     "output_type": "execute_result"
    }
   ],
   "source": [
    "animal_sound(dog)"
   ]
  },
  {
   "cell_type": "code",
   "execution_count": null,
   "metadata": {},
   "outputs": [],
   "source": []
  }
 ],
 "metadata": {
  "kernelspec": {
   "display_name": "Python 3",
   "language": "python",
   "name": "python3"
  },
  "language_info": {
   "codemirror_mode": {
    "name": "ipython",
    "version": 3
   },
   "file_extension": ".py",
   "mimetype": "text/x-python",
   "name": "python",
   "nbconvert_exporter": "python",
   "pygments_lexer": "ipython3",
   "version": "3.10.8"
  }
 },
 "nbformat": 4,
 "nbformat_minor": 2
}
