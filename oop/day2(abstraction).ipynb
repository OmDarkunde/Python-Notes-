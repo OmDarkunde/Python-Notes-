{
 "cells": [
  {
   "cell_type": "markdown",
   "metadata": {},
   "source": [
    "> # 3 ) abstraction --  >\n",
    "    it is used to hide the internal functionality of the function from the user \n",
    "    \n",
    "\n"
   ]
  },
  {
   "cell_type": "markdown",
   "metadata": {},
   "source": [
    "## need of abstraction --> \n",
    "1) abstraction ruduces the complaxity of code \n",
    "2) we can not create object for abstract class \n",
    " "
   ]
  },
  {
   "cell_type": "markdown",
   "metadata": {},
   "source": [
    "from abc import ABC"
   ]
  },
  {
   "cell_type": "code",
   "execution_count": 25,
   "metadata": {},
   "outputs": [],
   "source": [
    "from abc import ABC \n",
    "class car(ABC) :  # abstract class -- so no object for it \n",
    "    def milage (Self) : \n",
    "        pass \n",
    "\n",
    "class tesla(car) :\n",
    "    def milage(Self):\n",
    "        print(\"the milage is 30 km\" , end=\" \")\n",
    "        return \"tesla\"\n",
    "\n",
    "class suzuki(car) :\n",
    "    def milage(Self):\n",
    "        print(\"the milage is 25 km\" , end=\" \")\n",
    "        return \"suzuki\"\n",
    "\n",
    "\n",
    "class duster(car) :\n",
    "    def milage(Self):\n",
    "        print(\"the milage is 20 km\", end=\"  \")\n",
    "        return \"duster\"\n",
    "\n",
    "\n",
    "    "
   ]
  },
  {
   "cell_type": "code",
   "execution_count": 26,
   "metadata": {},
   "outputs": [],
   "source": [
    "t =tesla()\n",
    "s =suzuki()\n",
    "d =duster()"
   ]
  },
  {
   "cell_type": "code",
   "execution_count": 27,
   "metadata": {},
   "outputs": [
    {
     "name": "stdout",
     "output_type": "stream",
     "text": [
      "the milage is 30 km tesla\n",
      "the milage is 25 km suzuki\n",
      "the milage is 20 km  duster\n"
     ]
    }
   ],
   "source": [
    "print(t.milage())\n",
    "print(s.milage())\n",
    "print(d.milage())"
   ]
  },
  {
   "cell_type": "code",
   "execution_count": 28,
   "metadata": {},
   "outputs": [],
   "source": [
    "from abc import ABC  \n",
    "class shape(ABC) : \n",
    "    def area(self) :\n",
    "        pass \n",
    "    def perimiter(self) :\n",
    "        pass   \n",
    "class circle (shape) :\n",
    "    def __init__(self,rad) -> None:\n",
    "        self.rad = rad\n",
    "    def area(self) :\n",
    "        area = (3.14 * self.rad) ** 2 \n",
    "        return area\n",
    "    def perimiter(self):\n",
    "        perimiter = (2*3.14*self.rad) \n",
    "        return perimiter\n",
    "class rectangle (shape) : \n",
    "    def __init__(self,l,b) -> None:\n",
    "        self.l = l\n",
    "        self.b = b\n",
    "    def area (self) :\n",
    "        area = self.l * self.b\n",
    "        return area \n",
    "    def perimiter(self):\n",
    "        perimiter = 2 * (self.l + self.b)\n",
    "        return perimiter\n"
   ]
  },
  {
   "cell_type": "code",
   "execution_count": 29,
   "metadata": {},
   "outputs": [],
   "source": [
    "cir1 = circle(5)"
   ]
  },
  {
   "cell_type": "code",
   "execution_count": 39,
   "metadata": {},
   "outputs": [
    {
     "name": "stdout",
     "output_type": "stream",
     "text": [
      "area  is 246.49000000000004\n",
      "perimiter is 31.400000000000002\n"
     ]
    }
   ],
   "source": [
    "print(f\"area  is {cir1.area()}\")\n",
    "print(f\"perimiter is {cir1.perimiter()}\")"
   ]
  },
  {
   "cell_type": "code",
   "execution_count": 35,
   "metadata": {},
   "outputs": [],
   "source": [
    "rec1 = rectangle(5,4)"
   ]
  },
  {
   "cell_type": "code",
   "execution_count": 37,
   "metadata": {},
   "outputs": [
    {
     "name": "stdout",
     "output_type": "stream",
     "text": [
      "perimiter is 18\n",
      "area is 20\n"
     ]
    }
   ],
   "source": [
    "print(f\"perimiter is {rec1.perimiter()}\")\n",
    "print(f\"area is {rec1.area()}\")"
   ]
  },
  {
   "cell_type": "code",
   "execution_count": null,
   "metadata": {},
   "outputs": [],
   "source": []
  }
 ],
 "metadata": {
  "kernelspec": {
   "display_name": "Python 3",
   "language": "python",
   "name": "python3"
  },
  "language_info": {
   "codemirror_mode": {
    "name": "ipython",
    "version": 3
   },
   "file_extension": ".py",
   "mimetype": "text/x-python",
   "name": "python",
   "nbconvert_exporter": "python",
   "pygments_lexer": "ipython3",
   "version": "3.10.8"
  }
 },
 "nbformat": 4,
 "nbformat_minor": 2
}
