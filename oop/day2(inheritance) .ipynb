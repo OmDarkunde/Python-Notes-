{
 "cells": [
  {
   "cell_type": "markdown",
   "metadata": {},
   "source": [
    "> # types of classed  \n",
    "    1) polymorphism \n",
    "    2) inheritance \n",
    "    3) incapsulation\n",
    "    4) abstraction "
   ]
  },
  {
   "cell_type": "markdown",
   "metadata": {},
   "source": [
    " > # 1 )  Inheritance  \n",
    "        types of it -- > \n",
    "        A ) single inheritance\n",
    "        b ) multiple \n",
    "        c ) multi level \n",
    "        d ) hieractical\n",
    "        e ) hybrid "
   ]
  },
  {
   "cell_type": "markdown",
   "metadata": {},
   "source": [
    "> ### parent class --- >  original class from which we can create new class "
   ]
  },
  {
   "cell_type": "markdown",
   "metadata": {},
   "source": [
    "> ### child class --- > new class created with the hwlp of parent class with inheriting its properties "
   ]
  },
  {
   "cell_type": "markdown",
   "metadata": {},
   "source": [
    "# A ) single inheritance \n",
    "     child classs is created with the help of only one parent \n",
    "     child class inherites only from one parent "
   ]
  },
  {
   "cell_type": "code",
   "execution_count": 30,
   "metadata": {},
   "outputs": [],
   "source": [
    "class employee () :\n",
    "    def __init__(self , emp_no , e_name ) : \n",
    "        self.emp_no = emp_no\n",
    "        self.e_name = e_name \n",
    "    def display_1 (self) :\n",
    "        print(f\"employee name {self.e_name}\")\n",
    "        print(f\"his id is {self.emp_no}\")\n",
    "        "
   ]
  },
  {
   "cell_type": "code",
   "execution_count": 6,
   "metadata": {},
   "outputs": [],
   "source": [
    "emp1 = employee(1,\"chetan thorat \")"
   ]
  },
  {
   "cell_type": "code",
   "execution_count": 7,
   "metadata": {},
   "outputs": [
    {
     "name": "stdout",
     "output_type": "stream",
     "text": [
      "employee name chetan thorat \n",
      "his id is 1\n"
     ]
    }
   ],
   "source": [
    "emp1.display_1()"
   ]
  },
  {
   "cell_type": "code",
   "execution_count": 34,
   "metadata": {},
   "outputs": [],
   "source": [
    "# child class  -- > parent is written inside the () so all the property will come to the child class  \n",
    "class manager(employee) :\n",
    "    def __init__(self, emp_no, e_name , role):\n",
    "        # super().__init__(emp_no, e_name,role) # both will work same \n",
    "        employee.__init__(self,emp_no ,e_name)\n",
    "        self.role = role\n",
    "    def display_1(self):\n",
    "        # return super().display_1()  # both will work same\n",
    "        employee.display_1(self)\n",
    "        print(f\"employee role is {self.role}\")\n"
   ]
  },
  {
   "cell_type": "code",
   "execution_count": 35,
   "metadata": {},
   "outputs": [],
   "source": [
    "emp_2 = manager(2, \"omkar\" , \"manager\")"
   ]
  },
  {
   "cell_type": "code",
   "execution_count": 36,
   "metadata": {},
   "outputs": [
    {
     "name": "stdout",
     "output_type": "stream",
     "text": [
      "employee name omkar\n",
      "his id is 2\n",
      "employee role is manager\n"
     ]
    }
   ],
   "source": [
    "emp_2.display_1()"
   ]
  },
  {
   "cell_type": "markdown",
   "metadata": {},
   "source": [
    "#### home work \n",
    "        create single inheritance class "
   ]
  },
  {
   "cell_type": "markdown",
   "metadata": {},
   "source": [
    "# B ) multiple \n",
    "    child class inheritaces from more than one parent class \n",
    "    class a \n",
    "    class b \n",
    "    clss c (a,b)"
   ]
  },
  {
   "cell_type": "code",
   "execution_count": 4,
   "metadata": {},
   "outputs": [],
   "source": [
    "# parent \n",
    "class dad () :\n",
    "    def __init__(self,d_name) -> None:\n",
    "        self.d_name = d_name\n",
    "    def D_name(self) :\n",
    "        print(f\"dad's name is {self.d_name}\")\n",
    "         "
   ]
  },
  {
   "cell_type": "code",
   "execution_count": 6,
   "metadata": {},
   "outputs": [],
   "source": [
    "class  mom () :\n",
    "     def __init__(self,m_name) -> None:\n",
    "        self.m_name = m_name\n",
    "     def M_name(self) :\n",
    "        print(f\"mom's name is {self.m_name}\")\n"
   ]
  },
  {
   "cell_type": "code",
   "execution_count": 13,
   "metadata": {},
   "outputs": [],
   "source": [
    "class boy (dad, mom) :\n",
    "    def __init__(self, d_name,m_name,s_name) -> None:\n",
    "        dad.__init__(self , d_name) \n",
    "        mom.__init__(self ,m_name)\n",
    "        self.s_name =s_name \n",
    "    def child_name(self) :\n",
    "        dad.D_name(self)\n",
    "        mom.M_name(self)\n",
    "        print(f\"name of the child will be {self.s_name}\")\n",
    "        "
   ]
  },
  {
   "cell_type": "code",
   "execution_count": 14,
   "metadata": {},
   "outputs": [],
   "source": [
    "roll_1 = boy(\"sudhir\" , \"sarita\" ,\"om\")"
   ]
  },
  {
   "cell_type": "code",
   "execution_count": 15,
   "metadata": {},
   "outputs": [
    {
     "name": "stdout",
     "output_type": "stream",
     "text": [
      "dad's name is sudhir\n",
      "mom's name is sarita\n",
      "name of the child will be om\n"
     ]
    }
   ],
   "source": [
    "roll_1.child_name()"
   ]
  },
  {
   "cell_type": "markdown",
   "metadata": {},
   "source": [
    "# C ) multi level \n",
    "    + there will be one parent from that one child class is created and from that child also another child is created \n",
    "    + parent --- > child ---> child "
   ]
  },
  {
   "cell_type": "code",
   "execution_count": 56,
   "metadata": {},
   "outputs": [],
   "source": [
    "# parent \n",
    "class employee () :\n",
    "    def __init__(self , emp_no , e_name ) : \n",
    "        self.emp_no = emp_no\n",
    "        self.e_name = e_name \n",
    "    def display_1 (self) :\n",
    "        print(f\"employee name {self.e_name}\")\n",
    "        print(f\"his id is {self.emp_no}\")\n",
    "        "
   ]
  },
  {
   "cell_type": "code",
   "execution_count": 57,
   "metadata": {},
   "outputs": [],
   "source": [
    "# child class  -- > parent is written inside the () so all the property will come to the child class  \n",
    "class manager(employee) :\n",
    "    def __init__(self, emp_no, e_name , role):\n",
    "        # super().__init__(emp_no, e_name,role) # both will work same \n",
    "        employee.__init__(self,emp_no ,e_name)\n",
    "        self.role = role\n",
    "    def display_1(self):\n",
    "        # return super().display_1()  # both will work same\n",
    "        employee.display_1(self)\n",
    "        print(f\"employee role is {self.role}\")\n",
    " "
   ]
  },
  {
   "cell_type": "code",
   "execution_count": 58,
   "metadata": {},
   "outputs": [],
   "source": [
    "# child of the manager \n",
    "class trainer(manager) :\n",
    "    def __init__(self, emp_no, e_name, role,sal):\n",
    "        # super().__init__(emp_no, e_name, role)\n",
    "        manager.__init__(self,emp_no ,e_name,role)\n",
    "        self.sal = sal \n",
    "    def sal_displ(self) : \n",
    "        manager.display_1(self) \n",
    "        print( f\"the slary is  {self.sal}\")"
   ]
  },
  {
   "cell_type": "code",
   "execution_count": 59,
   "metadata": {},
   "outputs": [],
   "source": [
    "emp3 = trainer(3 , \"aditya\" , \"servent\" , 10000000)"
   ]
  },
  {
   "cell_type": "code",
   "execution_count": 62,
   "metadata": {},
   "outputs": [
    {
     "name": "stdout",
     "output_type": "stream",
     "text": [
      "employee name aditya\n",
      "his id is 3\n"
     ]
    }
   ],
   "source": [
    " # to acess detail of the parent from child \n",
    "employee.display_1(emp3)"
   ]
  },
  {
   "cell_type": "markdown",
   "metadata": {},
   "source": [
    "# d ) hieractical \n",
    "     single parent and it has multiple child \n",
    "     + parent -- > child \n",
    "         |\n",
    "         |\n",
    "         |\n",
    "        child \n"
   ]
  },
  {
   "cell_type": "code",
   "execution_count": 23,
   "metadata": {},
   "outputs": [],
   "source": [
    "# parent \n",
    "class dad () :\n",
    "    def __init__(self,d_name) -> None:\n",
    "        self.d_name = d_name\n",
    "    def D_name(self) :\n",
    "        print(f\"dad's name is {self.d_name}\")\n",
    "         "
   ]
  },
  {
   "cell_type": "code",
   "execution_count": 25,
   "metadata": {},
   "outputs": [],
   "source": [
    "class son1 (dad) :\n",
    "    def __init__(self,d_name,son1) -> None:\n",
    "        dad.__init__(self,d_name)\n",
    "        self.son1 = son1\n",
    "    def detail1 (self) :\n",
    "        dad.D_name(self) \n",
    "        print(f\"name of the forst child will be {self.son1}\")\n",
    "\n",
    "        "
   ]
  },
  {
   "cell_type": "code",
   "execution_count": 30,
   "metadata": {},
   "outputs": [],
   "source": [
    "class son2 (dad) :\n",
    "    def __init__(self,d_name ,son2) -> None:\n",
    "        dad.__init__(self , d_name)\n",
    "        self.son2 = son2\n",
    "    def detail1 (self) :\n",
    "        dad.D_name(self) \n",
    "        print(f\"name of the forst child will be {self.son2}\")\n",
    "\n",
    "        "
   ]
  },
  {
   "cell_type": "code",
   "execution_count": 26,
   "metadata": {},
   "outputs": [],
   "source": [
    "son1 = son1(\"om\" , \"omkar\")"
   ]
  },
  {
   "cell_type": "code",
   "execution_count": 27,
   "metadata": {},
   "outputs": [
    {
     "name": "stdout",
     "output_type": "stream",
     "text": [
      "dad's name is om\n"
     ]
    }
   ],
   "source": [
    "son1.D_name()"
   ]
  },
  {
   "cell_type": "code",
   "execution_count": 31,
   "metadata": {},
   "outputs": [],
   "source": [
    "son2 = son2(\"om\",\"prathemsh\")"
   ]
  },
  {
   "cell_type": "code",
   "execution_count": 32,
   "metadata": {},
   "outputs": [
    {
     "name": "stdout",
     "output_type": "stream",
     "text": [
      "dad's name is om\n"
     ]
    }
   ],
   "source": [
    "son2.D_name()"
   ]
  },
  {
   "cell_type": "markdown",
   "metadata": {},
   "source": [
    "# e) hybrid  \n",
    "    combination of any type of the inheritance "
   ]
  },
  {
   "cell_type": "code",
   "execution_count": null,
   "metadata": {},
   "outputs": [],
   "source": []
  }
 ],
 "metadata": {
  "kernelspec": {
   "display_name": "Python 3",
   "language": "python",
   "name": "python3"
  },
  "language_info": {
   "codemirror_mode": {
    "name": "ipython",
    "version": 3
   },
   "file_extension": ".py",
   "mimetype": "text/x-python",
   "name": "python",
   "nbconvert_exporter": "python",
   "pygments_lexer": "ipython3",
   "version": "3.10.8"
  }
 },
 "nbformat": 4,
 "nbformat_minor": 2
}
