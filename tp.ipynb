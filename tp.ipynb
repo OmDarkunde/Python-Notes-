{
 "cells": [
  {
   "cell_type": "code",
   "execution_count": 3,
   "metadata": {},
   "outputs": [
    {
     "name": "stdout",
     "output_type": "stream",
     "text": [
      "list is :\n",
      "256 641 958 20 \n",
      "new list is: \n",
      "20 256 641 958 "
     ]
    }
   ],
   "source": [
    "n = int(input(\"enter how many elements do you want in your list \"))\n",
    "l = []\n",
    "for i in range(n) :\n",
    "    ele =  int(input(\"enter the number\"))\n",
    "    l.append(ele)\n",
    "print(\"list is :\")\n",
    "\n",
    "for i in range(n) :\n",
    "    print(l[i] ,end = \" \") \n",
    "\n",
    "for i in range(n) :\n",
    "        for j in range(i+1,n):\n",
    "            if l[i] > l[j] :\n",
    "                  temp = l[i]\n",
    "                  l[i] = l[j]\n",
    "                  l[j] = temp\n",
    "                  \n",
    "print(\"\\nnew list is: \")\n",
    "for i in range(n) :\n",
    "        print( l[i],end=\" \")\n",
    "\n"
   ]
  },
  {
   "cell_type": "code",
   "execution_count": null,
   "metadata": {},
   "outputs": [],
   "source": []
  }
 ],
 "metadata": {
  "kernelspec": {
   "display_name": "Python 3",
   "language": "python",
   "name": "python3"
  },
  "language_info": {
   "codemirror_mode": {
    "name": "ipython",
    "version": 3
   },
   "file_extension": ".py",
   "mimetype": "text/x-python",
   "name": "python",
   "nbconvert_exporter": "python",
   "pygments_lexer": "ipython3",
   "version": "3.10.8"
  }
 },
 "nbformat": 4,
 "nbformat_minor": 2
}
