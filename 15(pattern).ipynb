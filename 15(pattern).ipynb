{
 "cells": [
  {
   "cell_type": "markdown",
   "metadata": {},
   "source": [
    "> # local variable  -- we can use this only with in the single cell of ofr singel function\n",
    "\n",
    "> # global variable -- we can use this in all over the noteboks "
   ]
  },
  {
   "cell_type": "markdown",
   "metadata": {},
   "source": [
    "### local"
   ]
  },
  {
   "cell_type": "code",
   "execution_count": 1,
   "metadata": {},
   "outputs": [
    {
     "data": {
      "text/plain": [
       "15"
      ]
     },
     "execution_count": 1,
     "metadata": {},
     "output_type": "execute_result"
    }
   ],
   "source": [
    "# local variable \n",
    "def add (b) :\n",
    "        a = 10 \n",
    "        return a+b\n",
    "add(5)"
   ]
  },
  {
   "cell_type": "markdown",
   "metadata": {},
   "source": [
    "### global "
   ]
  },
  {
   "cell_type": "code",
   "execution_count": 6,
   "metadata": {},
   "outputs": [
    {
     "data": {
      "text/plain": [
       "105"
      ]
     },
     "execution_count": 6,
     "metadata": {},
     "output_type": "execute_result"
    }
   ],
   "source": [
    "# global variable \n",
    "a = 100\n",
    "def add1(b) :\n",
    "    \n",
    "    return a+b\n",
    "add1(5)"
   ]
  },
  {
   "cell_type": "code",
   "execution_count": 11,
   "metadata": {},
   "outputs": [
    {
     "name": "stdout",
     "output_type": "stream",
     "text": [
      "17\n",
      "12\n"
     ]
    }
   ],
   "source": [
    "# over ride  the global value by local value element\n",
    "a = 100\n",
    "def add1(b) :\n",
    "    a= 12\n",
    "    \n",
    "    return a+b\n",
    "add1(5)"
   ]
  },
  {
   "cell_type": "code",
   "execution_count": 12,
   "metadata": {},
   "outputs": [
    {
     "name": "stdout",
     "output_type": "stream",
     "text": [
      "17\n",
      "12\n"
     ]
    }
   ],
   "source": [
    "# local converted into global\n",
    "a = 100\n",
    "def add1(b) :\n",
    "    global a\n",
    "    a= 12\n",
    "    \n",
    "    return a+b\n",
    "print(add1(5))\n",
    "print(a)"
   ]
  },
  {
   "cell_type": "markdown",
   "metadata": {},
   "source": [
    "### Q  .  what is the difference between local and global variable "
   ]
  },
  {
   "cell_type": "markdown",
   "metadata": {},
   "source": []
  },
  {
   "cell_type": "code",
   "execution_count": 13,
   "metadata": {},
   "outputs": [
    {
     "name": "stdout",
     "output_type": "stream",
     "text": [
      "0\n",
      "1\n",
      "2\n",
      "3\n"
     ]
    }
   ],
   "source": [
    "for i in range(0,4) :\n",
    "    print(i)"
   ]
  },
  {
   "cell_type": "markdown",
   "metadata": {},
   "source": [
    "# Q all column and rowsw will be print\n"
   ]
  },
  {
   "cell_type": "code",
   "execution_count": 21,
   "metadata": {},
   "outputs": [
    {
     "name": "stdout",
     "output_type": "stream",
     "text": [
      "* * * *  \n",
      "* * * *  \n",
      "* * * *  \n",
      "* * * *  \n"
     ]
    }
   ],
   "source": [
    "for i in range(1,5) :\n",
    "    for j in range(1,5) :\n",
    "        print(\"*\" , end =\" \")\n",
    "    print(\" \")"
   ]
  },
  {
   "cell_type": "markdown",
   "metadata": {},
   "source": [
    "# j+1 how this is working "
   ]
  },
  {
   "cell_type": "code",
   "execution_count": 36,
   "metadata": {},
   "outputs": [
    {
     "name": "stdout",
     "output_type": "stream",
     "text": [
      "* * * *  \n",
      "* * *  \n",
      "* *  \n",
      "*  \n"
     ]
    }
   ],
   "source": [
    "# i = rows , j = column\n",
    "for i in range(1,5) :\n",
    "    for j in range(i,j+1) :\n",
    "        print(\"*\" , end =\" \")\n",
    "    print(\" \")"
   ]
  },
  {
   "cell_type": "code",
   "execution_count": 30,
   "metadata": {},
   "outputs": [
    {
     "name": "stdout",
     "output_type": "stream",
     "text": [
      " \n",
      "*  \n",
      "* *  \n",
      "* * *  \n",
      "* * * *  \n"
     ]
    }
   ],
   "source": [
    "for i in range(5) :\n",
    "    for j in range(1,i+1) :\n",
    "        print(\"*\" , end =\" \")\n",
    "    print(\" \")"
   ]
  },
  {
   "cell_type": "code",
   "execution_count": 32,
   "metadata": {},
   "outputs": [
    {
     "name": "stdout",
     "output_type": "stream",
     "text": [
      " \n",
      "1  \n",
      "2 2  \n",
      "3 3 3  \n",
      "4 4 4 4  \n"
     ]
    }
   ],
   "source": [
    "# i value give that values\n",
    "for i in range(5) :\n",
    "    for j in range(1,i+1) :\n",
    "        print(i , end =\" \")\n",
    "    print(\" \")"
   ]
  },
  {
   "cell_type": "code",
   "execution_count": 34,
   "metadata": {},
   "outputs": [
    {
     "name": "stdout",
     "output_type": "stream",
     "text": [
      " \n",
      "1  \n",
      "1 2  \n",
      "1 2 3  \n",
      "1 2 3 4  \n"
     ]
    }
   ],
   "source": [
    "# j value give that values\n",
    "for i in range(5) :\n",
    "    for j in range(1,i+1) :\n",
    "        print(j , end =\" \")\n",
    "    print(\" \")"
   ]
  },
  {
   "cell_type": "code",
   "execution_count": 97,
   "metadata": {},
   "outputs": [],
   "source": [
    "\n",
    "n=5\n",
    "for i in range(1,5,-1):\n",
    "    for j in range(i,n-i+1):\n",
    "        print(j,end=\" \")\n",
    "    print(\"\")"
   ]
  },
  {
   "cell_type": "code",
   "execution_count": 93,
   "metadata": {},
   "outputs": [
    {
     "name": "stdout",
     "output_type": "stream",
     "text": [
      "1 \n",
      "12 \n",
      "123 \n",
      "1234 \n"
     ]
    }
   ],
   "source": [
    "for i in range(1, 5):\n",
    "    for j in range(1, i + 1):\n",
    "        print(j, end=\"\")\n",
    "    print(\" \")"
   ]
  },
  {
   "cell_type": "markdown",
   "metadata": {},
   "source": [
    "## 2nd type "
   ]
  },
  {
   "cell_type": "code",
   "execution_count": 91,
   "metadata": {},
   "outputs": [
    {
     "name": "stdout",
     "output_type": "stream",
     "text": [
      "1 2 3 4 5 \n",
      "1 2 3 4 \n",
      "1 2 3 \n",
      "1 2 \n",
      "1 \n"
     ]
    }
   ],
   "source": [
    "n = 5\n",
    "for i in range(n,0,-1) :\n",
    "    for j in range(1,i+1,1) :\n",
    "        print(j , end =\" \")\n",
    "    print()"
   ]
  },
  {
   "cell_type": "markdown",
   "metadata": {},
   "source": [
    "## 1st type of the pattern "
   ]
  },
  {
   "cell_type": "code",
   "execution_count": 102,
   "metadata": {},
   "outputs": [
    {
     "name": "stdout",
     "output_type": "stream",
     "text": [
      "1 2 3 4  \n",
      "1 2 3  \n",
      "1 2  \n",
      "1  \n"
     ]
    }
   ],
   "source": [
    "\n",
    "n=5\n",
    "for i in range(1,5):\n",
    "    for j in range(1,n-i+1):\n",
    "        print(j,end=\" \")\n",
    "    print(\" \")"
   ]
  },
  {
   "cell_type": "markdown",
   "metadata": {},
   "source": [
    "# triangle number  2 pattern (upper ) "
   ]
  },
  {
   "cell_type": "code",
   "execution_count": null,
   "metadata": {},
   "outputs": [],
   "source": []
  },
  {
   "cell_type": "code",
   "execution_count": 119,
   "metadata": {},
   "outputs": [
    {
     "name": "stdout",
     "output_type": "stream",
     "text": [
      "* * * *  \n",
      "# * * *  \n",
      "# # * *  \n",
      "# # # *  \n"
     ]
    }
   ],
   "source": [
    "\n",
    "n= 5\n",
    "for i in range(1,5) :\n",
    "    for j in range(1,i) :\n",
    "        print(\"#\" , end =\" \")\n",
    "    for j in range(1,n-i+1) :\n",
    "        print(\"*\" , end = \" \")\n",
    "    print(\" \")"
   ]
  },
  {
   "cell_type": "code",
   "execution_count": 122,
   "metadata": {},
   "outputs": [
    {
     "name": "stdout",
     "output_type": "stream",
     "text": [
      "* * * *  \n",
      "  * * *  \n",
      "    * *  \n",
      "      *  \n"
     ]
    }
   ],
   "source": [
    "n= 5\n",
    "for i in range(1,5) :\n",
    "    for j in range(1,i) :\n",
    "        print(\" \" , end =\" \")\n",
    "    for j in range(1,n-i+1) :\n",
    "        print(\"*\" , end = \" \")\n",
    "    print(\" \")"
   ]
  },
  {
   "cell_type": "code",
   "execution_count": 123,
   "metadata": {},
   "outputs": [
    {
     "name": "stdout",
     "output_type": "stream",
     "text": [
      "1 2 3 4  \n",
      "  1 2 3  \n",
      "    1 2  \n",
      "      1  \n"
     ]
    }
   ],
   "source": [
    "n= 5\n",
    "for i in range(1,5) :\n",
    "    for j in range(1,i) :\n",
    "        print(\" \" , end =\" \")\n",
    "    for j in range(1,n-i+1) :\n",
    "        print(j , end = \" \")\n",
    "    print(\" \")"
   ]
  },
  {
   "cell_type": "code",
   "execution_count": 138,
   "metadata": {},
   "outputs": [
    {
     "name": "stdout",
     "output_type": "stream",
     "text": [
      "1 1 1 1  \n",
      "  2 2 2  \n",
      "    3 3  \n",
      "      4  \n"
     ]
    }
   ],
   "source": [
    "n= 5\n",
    "for i in range(1,5) :\n",
    "    for j in range(1,i) : # normal type of the condtion to form the figure\n",
    "        print(\" \" , end =\" \")\n",
    "    for j in range(1,n-i+1) : # same as 1st condition type  \n",
    "        print(i , end = \" \")\n",
    "    print(\" \")"
   ]
  },
  {
   "cell_type": "code",
   "execution_count": 137,
   "metadata": {},
   "outputs": [
    {
     "name": "stdout",
     "output_type": "stream",
     "text": [
      "      *  \n",
      "    * *  \n",
      "  * * *  \n",
      "* * * *  \n"
     ]
    }
   ],
   "source": [
    "n=5\n",
    "for i in range(1,5):\n",
    "    for j in range(1,n-i): # only change is -1 is changed with -i \n",
    "        print(\" \",end=\" \")\n",
    "    for j in range(1,i+1) :\n",
    "        print(\"*\" ,end = \" \")\n",
    "    print(\" \")"
   ]
  },
  {
   "cell_type": "markdown",
   "metadata": {},
   "source": [
    "# type 3 tringe fig "
   ]
  },
  {
   "cell_type": "code",
   "execution_count": 3,
   "metadata": {},
   "outputs": [
    {
     "name": "stdout",
     "output_type": "stream",
     "text": [
      "      #  \n",
      "    # # #  \n",
      "  # # # # #  \n",
      "# # # # # # #  \n"
     ]
    }
   ],
   "source": [
    "n=5\n",
    "for i in range(1,5):\n",
    "    for j in range(1,n-i): # only change is -1 is changed with -i \n",
    "        print(\" \",end=\" \")\n",
    "    for j in range(1,i+1) :\n",
    "        print(\"#\" ,end = \" \")\n",
    "   \n",
    "\n",
    "    for j in range(1, i ):\n",
    "            print(\"#\", end=\" \")\n",
    "    print(\" \")"
   ]
  },
  {
   "cell_type": "markdown",
   "metadata": {},
   "source": [
    "# type  3 downward triangle \n",
    "combination of "
   ]
  },
  {
   "cell_type": "code",
   "execution_count": 37,
   "metadata": {},
   "outputs": [
    {
     "name": "stdout",
     "output_type": "stream",
     "text": [
      "* * * *  \n",
      "  * * *  \n",
      "    * *  \n",
      "      *  \n"
     ]
    }
   ],
   "source": [
    "for i in range(1,5) :\n",
    "    # 1st combo\n",
    "    for j in range(1,i) :\n",
    "        print(\" \" , end =\" \")\n",
    "    for j in range(1,n-i+1) :\n",
    "        print(\"*\" , end = \" \")\n",
    "    print(\" \")\n"
   ]
  },
  {
   "cell_type": "code",
   "execution_count": 34,
   "metadata": {},
   "outputs": [
    {
     "name": "stdout",
     "output_type": "stream",
     "text": [
      "* * * * * * *  \n",
      "  * * * * *  \n",
      "    * * *  \n",
      "      *  \n"
     ]
    }
   ],
   "source": [
    "# home work \n",
    "n= 5\n",
    "for i in range(1,5) :\n",
    "    # 1st combo\n",
    "    for j in range(1,i) :\n",
    "        print(\" \" , end =\" \")\n",
    "    for j in range(1,n-i+1) :\n",
    "        print(\"*\" , end = \" \")\n",
    "    # 2nd combo \n",
    "    \n",
    "    for j in range(1,n-i):\n",
    "        print(\"*\",end=\" \")\n",
    "    print(\" \")\n",
    "\n",
    "    "
   ]
  },
  {
   "cell_type": "markdown",
   "metadata": {},
   "source": [
    "# type 4  diamond"
   ]
  },
  {
   "cell_type": "code",
   "execution_count": 21,
   "metadata": {},
   "outputs": [
    {
     "name": "stdout",
     "output_type": "stream",
     "text": [
      "      *  \n",
      "    * * *  \n",
      "  * * * * *  \n",
      "* * * * * * *  \n",
      "  * * * * *  \n",
      "    * * *  \n",
      "      *  \n"
     ]
    }
   ],
   "source": [
    "n=5\n",
    "for i in range(1,n-1):\n",
    "    for j in range(1,n-i): # only change is -1 is changed with -i \n",
    "        print(\" \",end=\" \")\n",
    "    for j in range(1,i+1) :\n",
    "        print(\"*\" ,end = \" \")\n",
    "   \n",
    "\n",
    "    for j in range(1, i ):\n",
    "            print(\"*\", end=\" \")\n",
    "    print(\" \")\n",
    "\n",
    "\n",
    "for i in range(1,5) :\n",
    "    # 1st combo\n",
    "        for j in range(1,i) :\n",
    "            print(\" \" , end =\" \")\n",
    "        for j in range(1,n-i+1) :\n",
    "            print(\"*\" , end = \" \")\n",
    "        # 2nd combo \n",
    "        \n",
    "        for j in range(1,n-i):\n",
    "            print(\"*\",end=\" \")\n",
    "        print(\" \")"
   ]
  },
  {
   "cell_type": "markdown",
   "metadata": {},
   "source": [
    "# type 5 "
   ]
  },
  {
   "cell_type": "code",
   "execution_count": 7,
   "metadata": {},
   "outputs": [
    {
     "name": "stdout",
     "output_type": "stream",
     "text": [
      "      *  \n",
      "    * *  \n",
      "  * * *  \n",
      "* * * *  \n"
     ]
    }
   ],
   "source": [
    "n = 5\n",
    "for i in range(1,n): # in n1 is not taken then it will be not pointed on the tip \n",
    "    for j in range(1,n-i): # only change is -1 is changed with -i \n",
    "        print(\" \",end=\" \")\n",
    "    for j in range(1,i+1) :\n",
    "        print(\"*\" ,end = \" \")\n",
    "    print(\" \")"
   ]
  },
  {
   "cell_type": "code",
   "execution_count": 8,
   "metadata": {},
   "outputs": [
    {
     "name": "stdout",
     "output_type": "stream",
     "text": [
      "* * * *  \n",
      "  * * *  \n",
      "    * *  \n",
      "      *  \n"
     ]
    }
   ],
   "source": [
    "for i in range(1,5) :\n",
    "    for j in range(1,i) :\n",
    "        print(\" \" , end =\" \")\n",
    "    for j in range(1,n-i+1) :\n",
    "        print(\"*\" , end = \" \")\n",
    "    print(\" \")"
   ]
  },
  {
   "cell_type": "code",
   "execution_count": 25,
   "metadata": {},
   "outputs": [
    {
     "name": "stdout",
     "output_type": "stream",
     "text": [
      "      *  \n",
      "    * *  \n",
      "  * * *  \n",
      "* * * *  \n",
      "  * * *  \n",
      "    * *  \n",
      "      *  \n"
     ]
    }
   ],
   "source": [
    "n= 5\n",
    "\n",
    "for i in range(1,n-1): # in n1 is not taken then it will be not pointed on the tip \n",
    "    for j in range(1,n-i): # only change is -1 is changed with -i \n",
    "        print(\" \",end=\" \")\n",
    "    for j in range(1,i+1) :\n",
    "        print(\"*\" ,end = \" \")\n",
    "    print(\" \")\n",
    "for i in range(1,5) :\n",
    "    for j in range(1,i) :\n",
    "        print(\" \" , end =\" \")\n",
    "    for j in range(1,n-i+1) :\n",
    "        print(\"*\" , end = \" \")\n",
    "    print(\" \")"
   ]
  },
  {
   "cell_type": "code",
   "execution_count": 5,
   "metadata": {},
   "outputs": [
    {
     "name": "stdout",
     "output_type": "stream",
     "text": [
      " \n",
      "*  \n",
      "* *  \n",
      "* * *  \n",
      "* * * *  \n"
     ]
    }
   ],
   "source": [
    "n=5\n",
    "for i in range(n) :\n",
    "    for j in range(1,i+1) :\n",
    "        print(\"*\" , end =\" \")\n",
    "    print(\" \") "
   ]
  },
  {
   "cell_type": "code",
   "execution_count": 9,
   "metadata": {},
   "outputs": [
    {
     "name": "stdout",
     "output_type": "stream",
     "text": [
      "* * * *  \n",
      "* * *  \n",
      "* *  \n",
      "*  \n"
     ]
    }
   ],
   "source": [
    "for i in range(1,5):\n",
    "    for j in range(1,n-i+1):\n",
    "        print(\"*\",end=\" \")\n",
    "    print(\" \")"
   ]
  },
  {
   "cell_type": "code",
   "execution_count": 28,
   "metadata": {},
   "outputs": [
    {
     "name": "stdout",
     "output_type": "stream",
     "text": [
      " \n",
      "*  \n",
      "* *  \n",
      "* * *  \n",
      "* * * *  \n",
      "* * *  \n",
      "* *  \n",
      "*  \n"
     ]
    }
   ],
   "source": [
    "\n",
    "n=5\n",
    "for i in range(n-1) :\n",
    "    for j in range(1,i+1) :\n",
    "        print(\"*\" , end =\" \")\n",
    "    print(\" \")\n",
    "for i in range(1,5):\n",
    "    for j in range(1,n-i+1):\n",
    "        print(\"*\",end=\" \")\n",
    "    print(\" \")"
   ]
  },
  {
   "cell_type": "code",
   "execution_count": null,
   "metadata": {},
   "outputs": [],
   "source": []
  }
 ],
 "metadata": {
  "kernelspec": {
   "display_name": "Python 3",
   "language": "python",
   "name": "python3"
  },
  "language_info": {
   "codemirror_mode": {
    "name": "ipython",
    "version": 3
   },
   "file_extension": ".py",
   "mimetype": "text/x-python",
   "name": "python",
   "nbconvert_exporter": "python",
   "pygments_lexer": "ipython3",
   "version": "3.10.8"
  }
 },
 "nbformat": 4,
 "nbformat_minor": 2
}
