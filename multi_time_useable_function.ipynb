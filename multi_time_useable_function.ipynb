{
 "cells": [
  {
   "cell_type": "markdown",
   "metadata": {},
   "source": [
    "## count the even or odd number from give range "
   ]
  },
  {
   "cell_type": "markdown",
   "metadata": {},
   "source": [
    "+ def count_even_numbers(start, end):\n",
    "    + count = 0\n",
    "    + for num in range(start, end + 1):\n",
    "        + if num % 2 == 0:\n",
    "            + count += 1\n",
    "            + print(num)\n",
    "    + return count\n",
    "\n",
    "+ Using the function to count even numbers from 2 to 20\n",
    "+ total_even_numbers = count_even_numbers(2, 20)\n",
    "+ print(\"Total even numbers:\", total_even_numbers)\n"
   ]
  },
  {
   "cell_type": "markdown",
   "metadata": {},
   "source": []
  }
 ],
 "metadata": {
  "language_info": {
   "name": "python"
  }
 },
 "nbformat": 4,
 "nbformat_minor": 2
}
