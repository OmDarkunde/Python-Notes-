{
 "cells": [
  {
   "cell_type": "markdown",
   "metadata": {},
   "source": [
    "## 1. count the even or odd number from give range "
   ]
  },
  {
   "cell_type": "markdown",
   "metadata": {},
   "source": [
    "+ def count_even_numbers(start, end):\n",
    "    + count = 0\n",
    "    + for num in range(start, end + 1):\n",
    "        + if num % 2 == 0:\n",
    "            + count += 1\n",
    "            + print(num)\n",
    "    + return count\n",
    "\n",
    "+ Using the function to count even numbers from 2 to 20\n",
    "+ total_even_numbers = count_even_numbers(2, 20)\n",
    "+ print(\"Total even numbers:\", total_even_numbers)\n"
   ]
  },
  {
   "cell_type": "markdown",
   "metadata": {},
   "source": [
    "## 2. table creation for any number "
   ]
  },
  {
   "cell_type": "code",
   "execution_count": null,
   "metadata": {
    "vscode": {
     "languageId": "plaintext"
    }
   },
   "outputs": [],
   "source": [
    "user_input = int(input(\"enter the number whose table you want\"))\n",
    "for i in range(1,11) :\n",
    "    print(user_input*i)"
   ]
  }
 ],
 "metadata": {
  "language_info": {
   "name": "python"
  }
 },
 "nbformat": 4,
 "nbformat_minor": 2
}
