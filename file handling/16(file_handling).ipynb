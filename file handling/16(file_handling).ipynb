{
 "cells": [
  {
   "cell_type": "markdown",
   "metadata": {},
   "source": [
    " > # f = open(filename, mode)"
   ]
  },
  {
   "cell_type": "markdown",
   "metadata": {},
   "source": [
    "> # mode \n",
    "    r: open an existing file for a read operation.\n",
    "    w: open an existing file for a write operation. If the file already contains some data, then it will be overridden but if the file is not present then it creates the file as well.\n",
    "    a:  open an existing file for append operation. It won’t override existing data.\n",
    "    r+:  To read and write data into the file. The previous data in the file will be overridden.\n",
    "    w+: To write and read data. It will override existing data.\n",
    "    a+: To append and read data from the file. It won’t override existing data."
   ]
  },
  {
   "cell_type": "markdown",
   "metadata": {},
   "source": [
    "> ## open a file \n",
    "\n",
    "    open(\"address of the file\")"
   ]
  },
  {
   "cell_type": "code",
   "execution_count": 1,
   "metadata": {},
   "outputs": [],
   "source": [
    "f = open(\"text.txt\")"
   ]
  },
  {
   "cell_type": "code",
   "execution_count": 2,
   "metadata": {},
   "outputs": [],
   "source": [
    "f.close()"
   ]
  },
  {
   "cell_type": "markdown",
   "metadata": {},
   "source": [
    "## way to open a file which is present in the local storage \n",
    "       1. first copy the path with the help of the left click of mouse and then select --copy path--\n",
    "       2. then past that in the below formula to open that file \n",
    "              open(r\"file path\" , \"mode)\n"
   ]
  },
  {
   "cell_type": "markdown",
   "metadata": {},
   "source": [
    " ## the first __r__ \n",
    "    this stand for raw\n",
    "    \n",
    "\n",
    "    that does not  trats the  \" \\ \"  as the special charater "
   ]
  },
  {
   "cell_type": "code",
   "execution_count": 26,
   "metadata": {},
   "outputs": [],
   "source": [
    "NE = open(r\"C:\\Users\\user\\Desktop\\IT vedant\\doubt.txt\" ,\"r\")"
   ]
  },
  {
   "cell_type": "markdown",
   "metadata": {},
   "source": [
    "### default it is in __read__ mode if you dont give the mode "
   ]
  },
  {
   "cell_type": "code",
   "execution_count": 27,
   "metadata": {},
   "outputs": [
    {
     "name": "stdout",
     "output_type": "stream",
     "text": [
      "Join and Blend data in Tableau\n",
      " \n",
      " Dataset: Customer.xlsx, Customer order.xlsx, Product Detail.xlsx\n",
      " \n",
      " Dataset Link: Customer Order.xlsx Customer.xlsx Products details.xlsx\n",
      " \n",
      " Apply Blend and Join for Customer, Customer Order, Product details sheet to display Customer ID, Order ID, Product ID, Product Name without any data loss and *. "
     ]
    }
   ],
   "source": [
    "for i in NE  :\n",
    "    print(i,end=\" \")"
   ]
  },
  {
   "cell_type": "markdown",
   "metadata": {},
   "source": [
    "# two types of files present when we do our work \n",
    "    1. text file  -- normal text and number \n",
    "    2. binary file  -- video , images and other things "
   ]
  },
  {
   "cell_type": "markdown",
   "metadata": {},
   "source": [
    "# read()"
   ]
  },
  {
   "cell_type": "code",
   "execution_count": 28,
   "metadata": {},
   "outputs": [],
   "source": [
    "fi = open(\"text.txt\")"
   ]
  },
  {
   "cell_type": "markdown",
   "metadata": {},
   "source": [
    "### __read__ has a cursor(pointer) every time when it will run it it goes till end and afte that if there is no data then black output will generate"
   ]
  },
  {
   "cell_type": "code",
   "execution_count": 29,
   "metadata": {},
   "outputs": [
    {
     "data": {
      "text/plain": [
       "'hi my name is om darkunde and i am currently learning  python '"
      ]
     },
     "execution_count": 29,
     "metadata": {},
     "output_type": "execute_result"
    }
   ],
   "source": [
    "fi.read()"
   ]
  },
  {
   "cell_type": "code",
   "execution_count": 30,
   "metadata": {},
   "outputs": [
    {
     "data": {
      "text/plain": [
       "''"
      ]
     },
     "execution_count": 30,
     "metadata": {},
     "output_type": "execute_result"
    }
   ],
   "source": [
    "fi.read()"
   ]
  },
  {
   "cell_type": "markdown",
   "metadata": {},
   "source": [
    "## read has indexing also \n",
    "    .read(4) --- > first  4 charater from the txt file will be shown "
   ]
  },
  {
   "cell_type": "code",
   "execution_count": 31,
   "metadata": {},
   "outputs": [],
   "source": [
    "fe = open(\"text.txt\")"
   ]
  },
  {
   "cell_type": "code",
   "execution_count": 32,
   "metadata": {},
   "outputs": [
    {
     "data": {
      "text/plain": [
       "'hi m'"
      ]
     },
     "execution_count": 32,
     "metadata": {},
     "output_type": "execute_result"
    }
   ],
   "source": [
    "fe.read(4)"
   ]
  },
  {
   "cell_type": "code",
   "execution_count": null,
   "metadata": {},
   "outputs": [],
   "source": []
  }
 ],
 "metadata": {
  "kernelspec": {
   "display_name": "Python 3",
   "language": "python",
   "name": "python3"
  },
  "language_info": {
   "codemirror_mode": {
    "name": "ipython",
    "version": 3
   },
   "file_extension": ".py",
   "mimetype": "text/x-python",
   "name": "python",
   "nbconvert_exporter": "python",
   "pygments_lexer": "ipython3",
   "version": "3.10.8"
  }
 },
 "nbformat": 4,
 "nbformat_minor": 2
}
