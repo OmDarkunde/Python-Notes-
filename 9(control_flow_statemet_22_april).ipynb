{
 "cells": [
  {
   "cell_type": "markdown",
   "metadata": {},
   "source": [
    "> # 1. If  "
   ]
  },
  {
   "cell_type": "code",
   "execution_count": 6,
   "metadata": {},
   "outputs": [],
   "source": [
    "marks = int(input(\"enter your marks\"))"
   ]
  },
  {
   "cell_type": "code",
   "execution_count": 7,
   "metadata": {},
   "outputs": [],
   "source": [
    "if marks > 70 :\n",
    "    print(\"i will get a new bike \")"
   ]
  },
  {
   "cell_type": "markdown",
   "metadata": {},
   "source": [
    "> ## there is no break statement or there is not stop signal for python thats why all the statement has been runed "
   ]
  },
  {
   "cell_type": "code",
   "execution_count": 8,
   "metadata": {},
   "outputs": [
    {
     "name": "stdout",
     "output_type": "stream",
     "text": [
      "im not in the if block\n"
     ]
    }
   ],
   "source": [
    "if marks > 70 :\n",
    "    print(\"i will get a new bike \")\n",
    "    print(\"i am in of block\")\n",
    "print(\"im not in the if block\")\n"
   ]
  },
  {
   "cell_type": "markdown",
   "metadata": {},
   "source": [
    "># 2. If Else\n",
    "    if(condition 1) : \n",
    "        print(if block) \n",
    "    else :\n",
    "        print(else block)\n",
    "    "
   ]
  },
  {
   "cell_type": "code",
   "execution_count": 11,
   "metadata": {},
   "outputs": [
    {
     "name": "stdout",
     "output_type": "stream",
     "text": [
      "i will not give u bike\n",
      "i am in the else block\n"
     ]
    }
   ],
   "source": [
    "if marks > 70 :\n",
    "    print(\"i will get a new bike \")\n",
    "    print(\"i am in of block\")\n",
    "\n",
    "else : \n",
    "    print(\"i will not give u bike\")\n",
    "    print(\"i am in the else block\")"
   ]
  },
  {
   "cell_type": "markdown",
   "metadata": {},
   "source": [
    "# Q. find the number is even or odd "
   ]
  },
  {
   "cell_type": "code",
   "execution_count": 22,
   "metadata": {},
   "outputs": [],
   "source": [
    "number = int(input(\"enter the number\"))"
   ]
  },
  {
   "cell_type": "code",
   "execution_count": 23,
   "metadata": {},
   "outputs": [
    {
     "name": "stdout",
     "output_type": "stream",
     "text": [
      "number is even \n"
     ]
    }
   ],
   "source": [
    "if number % 2 == 0 : \n",
    "    print(\"number is even \")\n",
    "else :\n",
    "    print(\"number is odd\")"
   ]
  },
  {
   "cell_type": "code",
   "execution_count": 24,
   "metadata": {},
   "outputs": [
    {
     "name": "stdout",
     "output_type": "stream",
     "text": [
      "number is even \n"
     ]
    }
   ],
   "source": [
    "if ( number // 2 * 2 ) :  # //  -- floor divison has been done and multiplied with the 2 \n",
    "    print(\"number is even \")\n",
    "else :\n",
    "    print(\"number is odd\") "
   ]
  },
  {
   "cell_type": "markdown",
   "metadata": {},
   "source": [
    " > works on the last bit \n",
    "    cheaks is it 0 or 1 "
   ]
  },
  {
   "cell_type": "code",
   "execution_count": 19,
   "metadata": {},
   "outputs": [
    {
     "name": "stdout",
     "output_type": "stream",
     "text": [
      "even\n"
     ]
    }
   ],
   "source": [
    "x = 2\n",
    "if x & 1:\n",
    "  print('odd')\n",
    "else:\n",
    "  print('even')\n",
    "\n",
    "  "
   ]
  },
  {
   "cell_type": "markdown",
   "metadata": {},
   "source": [
    " ## Q .find the area of the rectangle "
   ]
  },
  {
   "cell_type": "code",
   "execution_count": 29,
   "metadata": {},
   "outputs": [
    {
     "name": "stdout",
     "output_type": "stream",
     "text": [
      "area fo the rectangle is 50\n"
     ]
    }
   ],
   "source": [
    "l = int(input(\"enter the lenth\"))\n",
    "b = int(input(\"enter the breath\")) \n",
    "\n",
    "area = l * b \n",
    "\n",
    "print(f\"area fo the rectangle is {area}\")"
   ]
  },
  {
   "cell_type": "markdown",
   "metadata": {},
   "source": [
    "> # 3. IF - ELIF -ELSE \n",
    "    if(condition 1) : \n",
    "        print(if block) \n",
    "    elif(condtion 2) :\n",
    "        print(elif block)\n",
    "    else :\n",
    "        print(else block)"
   ]
  },
  {
   "cell_type": "code",
   "execution_count": 36,
   "metadata": {},
   "outputs": [],
   "source": [
    "marks569 = int(input(\"enter your marks\")) "
   ]
  },
  {
   "cell_type": "code",
   "execution_count": 34,
   "metadata": {},
   "outputs": [
    {
     "name": "stdout",
     "output_type": "stream",
     "text": [
      "you got mobile\n"
     ]
    }
   ],
   "source": [
    "if marks569 >= 70 :\n",
    "    print(\"you got bike\")\n",
    "elif marks569 < 70 and marks569 > 60 : \n",
    "    print(\"you got mobile\")\n",
    "else :\n",
    "    print(\"you got nothing\") "
   ]
  },
  {
   "cell_type": "code",
   "execution_count": 35,
   "metadata": {},
   "outputs": [
    {
     "name": "stdout",
     "output_type": "stream",
     "text": [
      "first class\n"
     ]
    }
   ],
   "source": [
    "if marks569 >= 75 :\n",
    "    print(\"first class with distinction\")\n",
    "elif marks569 < 70 and marks569 > 60 : \n",
    "    print(\"first class\")\n",
    "elif marks569 < 60 and marks569 > 40 : \n",
    "    print(\"pass\")\n",
    "else :\n",
    "    print(\"fail\") "
   ]
  },
  {
   "cell_type": "code",
   "execution_count": null,
   "metadata": {},
   "outputs": [],
   "source": []
  }
 ],
 "metadata": {
  "kernelspec": {
   "display_name": "Python 3",
   "language": "python",
   "name": "python3"
  },
  "language_info": {
   "codemirror_mode": {
    "name": "ipython",
    "version": 3
   },
   "file_extension": ".py",
   "mimetype": "text/x-python",
   "name": "python",
   "nbconvert_exporter": "python",
   "pygments_lexer": "ipython3",
   "version": "3.10.8"
  }
 },
 "nbformat": 4,
 "nbformat_minor": 2
}
